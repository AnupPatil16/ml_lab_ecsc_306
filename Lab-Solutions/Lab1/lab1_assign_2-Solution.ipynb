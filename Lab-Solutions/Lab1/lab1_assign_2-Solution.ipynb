{
 "cells": [
  {
   "cell_type": "markdown",
   "metadata": {
    "slideshow": {
     "slide_type": "slide"
    }
   },
   "source": [
    "Write a program using tensorflow to calculate :\n",
    "                            y=mx+c\n",
    "                            \n",
    "### Part 1\n",
    "\n",
    "1. Read 2 arrays x,y containing floating point values\n",
    "2. Calculate mean of x & y\n",
    "3. Calculate variance for x\n",
    "    $$variance(x)=sum((x-mean(x))^2)/n-1$$\n",
    "4. Calculate covariance of x & y\n",
    "    $$covariance = sum((x(i) - mean(x)) * (y(i) - mean(y)))/n-1$$\n",
    "5. Calculate value of m\n",
    "    $$m = covariance(x,y)/variance(x)$$\n",
    "6. Calculate value of c\n",
    "    $$c = mean(y) -m* mean(x)$$\n",
    " \n",
    " \n",
    "### Part 2\n",
    "\n",
    "1. Plot graph for actual values against predicted value\n",
    "2. Calculate root mean square error.\n",
    "\n",
    "    "
   ]
  },
  {
   "cell_type": "markdown",
   "metadata": {
    "slideshow": {
     "slide_type": "slide"
    }
   },
   "source": [
    "# Solution"
   ]
  },
  {
   "cell_type": "markdown",
   "metadata": {},
   "source": [
    "## Part 1"
   ]
  },
  {
   "cell_type": "code",
   "execution_count": 93,
   "metadata": {
    "slideshow": {
     "slide_type": "-"
    }
   },
   "outputs": [
    {
     "name": "stdout",
     "output_type": "stream",
     "text": [
      "Mean & Variance of X\n",
      "\t\t\t\t 5.628 \t 8.97186\n",
      "Mean of Y\n",
      "\t\t\t\t 13.7\n",
      "Covariance of X & Y\n",
      "\t\t\t\t 30.8538\n",
      "Val of m\n",
      "\t\t\t\t 3.43895\n",
      "Val of c\n",
      "\t\t\t\t -5.65442\n"
     ]
    }
   ],
   "source": [
    "import tensorflow as tf\n",
    "import matplotlib.pyplot as plt\n",
    "import numpy as np\n",
    "\n",
    "with tf.name_scope(\"Init\"):\n",
    "    arrayX= [1.0, 2.0, 3.0, 4.0, 5.0, 6.0, 7.6, 8.0, 9.68, 10]         #input array for X\n",
    "    arrayY = [2.0, 4.0, 6.0, 8.0, 10.0, 12.0, 15, 19, 29, 32]      #input array for Y\n",
    "    x = tf.constant(arrayX, name='x', dtype=tf.float32)              #tf array for X\n",
    "    y = tf.constant(arrayY, name='y', dtype=tf.float32)              #tf array for Y\n",
    "\n",
    "#Mean of X & Y\n",
    "with tf.name_scope(\"Mean-X-Y\"):\n",
    "    meanX = tf.reduce_mean(x, [0])\n",
    "    meanY = tf.reduce_mean(y, [0])\n",
    "\n",
    "#Variance of X\n",
    "with tf.name_scope(\"Variance-X\"):\n",
    "    temp1= tf.subtract(x,meanX)\n",
    "    temp1= tf.multiply(temp1,temp1)\n",
    "    temp1= tf.reduce_sum(temp1)\n",
    "    varianceX= tf.divide(temp1, len(arrayX))\n",
    "    \n",
    "if len(arrayX)!=len(arrayY):\n",
    "    print (\"The arrays must be of equal length to find covariance\")\n",
    "    exit\n",
    "    \n",
    "#Covariance of X & Y\n",
    "n= len(arrayX)               #Number of values of x & y\n",
    "with tf.name_scope(\"Covariance-X-Y\"):\n",
    "    temp1= tf.subtract(x,meanX)\n",
    "    temp2= tf.subtract(y,meanY)\n",
    "    covarianceXY = tf.reduce_sum(tf.multiply(temp1,temp2))\n",
    "    covarianceXY = tf.divide(covarianceXY, n-1)\n",
    "\n",
    "#Value of m (Covar(x,y/Var(x))\n",
    "with tf.name_scope(\"Val-of-m\"):\n",
    "    m = tf.divide(covarianceXY,varianceX)\n",
    "\n",
    "#Value of c (Mean(y)−m∗Mean(x))\n",
    "with tf.name_scope(\"Val-of-c\"):\n",
    "    c= tf.subtract(meanY,tf.multiply(m,meanX))\n",
    "\n",
    "with tf.Session() as sess:\n",
    "    writer = tf.summary.FileWriter(\"/tmp/tboard/output\", sess.graph)\n",
    "    print(\"Mean & Variance of X\\n\\t\\t\\t\\t\",sess.run(meanX),\"\\t\", sess.run(varianceX))\n",
    "    print(\"Mean of Y\\n\\t\\t\\t\\t\",sess.run(meanY))\n",
    "    print(\"Covariance of X & Y\\n\\t\\t\\t\\t\",sess.run(covarianceXY))\n",
    "    print(\"Val of m\\n\\t\\t\\t\\t\",sess.run(m))\n",
    "    print(\"Val of c\\n\\t\\t\\t\\t\",sess.run(c))\n",
    "    \n",
    "    "
   ]
  },
  {
   "cell_type": "markdown",
   "metadata": {
    "collapsed": true
   },
   "source": [
    "## Part 2"
   ]
  },
  {
   "cell_type": "code",
   "execution_count": 94,
   "metadata": {},
   "outputs": [
    {
     "data": {
      "image/png": "[encoded data removed]",
      "text/plain": [
       "<matplotlib.figure.Figure at 0x7f34203d5eb8>"
      ]
     },
     "metadata": {},
     "output_type": "display_data"
    },
    {
     "name": "stdout",
     "output_type": "stream",
     "text": [
      "10.602\n"
     ]
    }
   ],
   "source": [
    "# Graph\n",
    "\n",
    "npX= np.asarray(arrayX)\n",
    "npY= np.asarray(arrayY)\n",
    "\n",
    "GraphFit= np.polyfit(npX,npY,1)\n",
    "fitFunc= np.poly1d(GraphFit)      # fitFunc is now a function which takes in x and returns an estimate for y\n",
    "\n",
    "plt.plot(npX,npY, 'yo', npX, fitFunc(npX), '--k')                       #Source: https://stackoverflow.com/a/6148315\n",
    "plt.show()\n",
    "\n",
    "\n",
    "#RMS Error\n",
    "with tf.name_scope(\"Root_Mean_Square_error\"):    \n",
    "    rmse= tf.sqrt(tf.reduce_mean(tf.squared_difference(arrayX, arrayY)))      #Source: https://stackoverflow.com/a/43830200\n",
    "    \n",
    "    with tf.Session() as sess:\n",
    "        print(sess.run(rmse))"
   ]
  },
  {
   "cell_type": "code",
   "execution_count": null,
   "metadata": {
    "collapsed": true
   },
   "outputs": [],
   "source": []
  }
 ],
 "metadata": {
  "celltoolbar": "Slideshow",
  "kernelspec": {
   "display_name": "Python 3",
   "language": "python",
   "name": "python3"
  }
 },
 "nbformat": 4,
 "nbformat_minor": 2
}
