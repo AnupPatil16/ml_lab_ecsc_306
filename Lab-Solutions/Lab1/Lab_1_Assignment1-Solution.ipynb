{
 "cells": [
  {
   "cell_type": "markdown",
   "metadata": {},
   "source": [
    "## Assignment for Lab1\n",
    "\n",
    "\n",
    "\n",
    "### Write the program to generate tensorboard graph for below equations. \n",
    "##### The code and images should be uploaded to your own repository\n",
    "\n",
    "\n",
    "\n",
    "1. $$ (a+b)^2 = a^2 + b^2 + 2ab $$\n",
    "2. $$ (a+b+c)^2 = a^2 + b^2 + 2ab +2bc + 2ca $$\n",
    "\n"
   ]
  },
  {
   "cell_type": "markdown",
   "metadata": {},
   "source": [
    "###  1.  $$ (a+b)^2 = a^2 + b^2 + 2ab $$"
   ]
  },
  {
   "cell_type": "code",
   "execution_count": 19,
   "metadata": {},
   "outputs": [
    {
     "name": "stdout",
     "output_type": "stream",
     "text": [
      "25\n"
     ]
    }
   ],
   "source": [
    "import tensorflow as tf\n",
    "\n",
    "a = tf.constant(2)\n",
    "b = tf.constant(3)\n",
    "with tf.name_scope(\"Squares\"):\n",
    "    a2 = tf.square(a, name = \"a2\")\n",
    "    b2 = tf.square(b,name = \"b2\")\n",
    "        \n",
    "with tf.name_scope(\"2ab\"):\n",
    "    _2ab = tf.multiply(tf.multiply(2,a, name = \"2a\"),b, name= \"2ab\")\n",
    "        \n",
    "with tf.name_scope(\"a2_b2_2ab\"):\n",
    "    ab2 = a2 + b2 + _2ab\n",
    "\n",
    "#starting session to handle exception and graph\n",
    "with tf.Session() as sect:\n",
    "    writer = tf.summary.FileWriter(\"/tmp/tboard/output_L1A1-1\",sect.graph)\n",
    "    print(sect.run(ab2))\n",
    "    writer.close()\n",
    "\n"
   ]
  },
  {
   "cell_type": "markdown",
   "metadata": {},
   "source": [
    "###  2.  $$ (a+b+c)^2=a^2+b^2+2ab+2bc+2ca $$"
   ]
  },
  {
   "cell_type": "code",
   "execution_count": 24,
   "metadata": {},
   "outputs": [
    {
     "name": "stdout",
     "output_type": "stream",
     "text": [
      "133\n"
     ]
    }
   ],
   "source": [
    "import tensorflow as tf\n",
    "\n",
    "a = tf.constant(2)\n",
    "b = tf.constant(5)\n",
    "c = tf.constant(6)\n",
    "\n",
    "with tf.name_scope(\"Squares\"):\n",
    "    a2 = tf.square(a,name = \"a2\")\n",
    "    b2 = tf.square(b,name = \"b2\")\n",
    "    \n",
    "with tf.name_scope(\"2ab\"):\n",
    "    _2ab = tf.multiply(tf.multiply(2,a, name = \"2a\"),b, name= \"2ab\")\n",
    "    \n",
    "with tf.name_scope(\"2bc\"):\n",
    "    _2bc = tf.multiply(tf.multiply(2,b, name = \"2b\"),c, name= \"2bc\")\n",
    "    \n",
    "with tf.name_scope(\"2ca\"):\n",
    "    _2ca = tf.multiply(tf.multiply(2,c, name = \"2c\"),a, name= \"2ca\")\n",
    "\n",
    "with tf.name_scope(\"a2_b2_2ab_2bc_2ca\"):\n",
    "    abc2 = a2 + b2 + _2ab + _2bc + _2ca\n",
    "\n",
    "\n",
    "with tf.Session() as sect:\n",
    "    writer = tf.summary.FileWriter(\"/tmp/tboard/output_L1A1-2\",sect.graph)\n",
    "    print(sect.run(abc2))\n",
    "    writer.close()"
   ]
  },
  {
   "cell_type": "code",
   "execution_count": null,
   "metadata": {
    "collapsed": true
   },
   "outputs": [],
   "source": []
  }
 ],
 "metadata": {
  "kernelspec": {
   "display_name": "Python 3",
   "language": "python",
   "name": "python3"
  },
  "language_info": {
   "codemirror_mode": {
    "name": "ipython",
    "version": 3
   },
   "file_extension": ".py",
   "mimetype": "text/x-python",
   "name": "python",
   "nbconvert_exporter": "python",
   "pygments_lexer": "ipython3",
   "version": "3.6.1"
  }
 },
 "nbformat": 4,
 "nbformat_minor": 2
}
